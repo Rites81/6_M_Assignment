{
 "cells": [
  {
   "cell_type": "markdown",
   "id": "4fa6f99d",
   "metadata": {},
   "source": [
    "# 1.What is Statistics?\n",
    "\n",
    "Statistics is method we study about data coolection, analysing, interpretation, presentation, and organization of data."
   ]
  },
  {
   "cell_type": "markdown",
   "id": "1788715c",
   "metadata": {},
   "source": [
    "## 2. Define the different types of statistics and give an example of when each type might be used\n",
    "\n",
    "Statistics are categories in two form :\n",
    "1. Descriptive Statistics\n",
    "  Measure of central tendency,\n",
    "  Measure of Dispersion,\n",
    "  Histogram,\n",
    "  Barchart\n",
    "\n",
    "2. Infuential Statistics\n",
    " Z-test,\n",
    " p-test,\n",
    " Hypothesis testing,\n",
    " p-value"
   ]
  },
  {
   "cell_type": "markdown",
   "id": "f776d0c2",
   "metadata": {},
   "source": [
    "## 3.  What are the different types of data and how do they differ from each other? Provide an example of each type of data\n",
    " There are two types of data:\n",
    "1. Qualitative Statistics\n",
    "(i). Norminal Data - Categorical data - Gender, Color\n",
    "(ii). Ordinal Data - Define ranks - Review\n",
    "\n",
    "2. Quatitative Statistics \n",
    "(i). Discreate Data - 1,2,3,4\n",
    "(ii). Continuous Data - 10.4,3.5"
   ]
  },
  {
   "cell_type": "markdown",
   "id": "54111767",
   "metadata": {},
   "source": [
    "## 4. Categorise the following datasets with respect to quantitative and qualitative data types:\n",
    "\n",
    "(i)\tGrading in exam: A+, A, B+, B, C+, C, D, E\n",
    "\n",
    "Ans. Qualitative - ordinal data \n",
    "\n",
    "(ii)\tColour of mangoes: yellow, green, orange, red\n",
    "Ans. Qualitative - Norminal data \n",
    "\n",
    "(iii)\tHeight data of a class: [178.9, 179, 179.5, 176, 177.2, 178.3, 175.8,...]\n",
    "Ans. Quatitative - Continuous Data\n",
    "\n",
    "(iv)\tNumber of mangoes exported by a farm: [500, 600, 478, 672, …]\n",
    "Ans. Quatitative - Discreate Data"
   ]
  },
  {
   "cell_type": "markdown",
   "id": "a0b70e29",
   "metadata": {},
   "source": [
    "## 5. Explain the concept of levels of measurement and give an example of a variable for each level.\n",
    "Ans. Level of measurement:\n",
    "1. Norminal Scale data \n",
    "2. Ordinal scale data \n",
    "3. Interval scale data\n",
    "4. Ratio scale data\n",
    "\n",
    "\n",
    "Nominal Level (Categorical):\n",
    "\n",
    "At the nominal level, data is categorized into distinct categories or groups.\n",
    "The categories have no inherent order or ranking, and they represent different attributes or characteristics.\n",
    "Examples: Gender (male, female, other), Eye color (blue, brown, green), Marital status (single, married, divorced).\n",
    "Ordinal Level (Ordinal):\n",
    "\n",
    "In the ordinal level, \n",
    "\n",
    "data can be ranked or ordered, but the differences between values are not meaningful.\n",
    "The ranking indicates a relative order, but we can't say how much more one value is than another.\n",
    "Examples: Educational levels (high school, bachelor's, master's, Ph.D.), Survey responses (strongly disagree, disagree, neutral, agree, strongly agree), Socioeconomic status (low, medium, high).\n",
    "Interval Level (Numerical with Equal Intervals):\n",
    "\n",
    "At the interval level, \n",
    "\n",
    "data is numerical, and the differences between values are meaningful and consistent.\n",
    "However, there is no true zero point. Zero doesn't mean the complete absence of the attribute; it's just an arbitrary point.\n",
    "Examples: Temperature in Celsius or Fahrenheit (e.g., 20°C, 25°C, 30°C), IQ scores, Calendar years (e.g., 2022, 2023).\n",
    "Ratio Level (Numerical with a True Zero):\n",
    "\n",
    "The ratio level has all the characteristics of the interval level but also includes a true zero point.\n",
    "A true zero indicates the complete absence of the attribute, and meaningful ratios can be formed.\n",
    "Examples: Age (in years), Height (in centimeters), Weight (in kilograms), Income (in dollars), Number of items in a collection (e.g., 0 books means no books)\n"
   ]
  },
  {
   "cell_type": "markdown",
   "id": "43c41e18",
   "metadata": {},
   "source": [
    "## 6. Why is it important to understand the level of measurement when analyzing data? Provide an example to illustrate your answer.\n",
    "\n",
    "Ans.  \n",
    "Understanding the level of measurement when analyzing data is essential because it dictates the types of statistical analyses and operations that can be applied to the data, ensuring that the analysis is both accurate and meaningful. Here's an example to illustrate the importance:\n",
    "\n",
    "Example:\n",
    "\n",
    "Participant A: 25 years\n",
    "Participant B: 30 years\n",
    "Participant C: 35 years\n",
    "Participant D: 40 years"
   ]
  },
  {
   "cell_type": "markdown",
   "id": "41739345",
   "metadata": {},
   "source": [
    "## 7. How nominal data type is different from ordinal data type.\n",
    "\n",
    "\n",
    "Ans. Nominal data has categories with no inherent order, while ordinal data has categories with a specific order but undefined differences between them.\n"
   ]
  },
  {
   "cell_type": "markdown",
   "id": "3dcfa961",
   "metadata": {},
   "source": [
    "## 8.Which type of plot can be used to display data in terms of range?\n",
    "Ans.  A box plot, also known as a box-and-whisker plot, is commonly used to display data in terms of its range. It provides a visual representation of the minimum, first quartile, median, third quartile, and maximum values in a dataset, making it easy to see the data's spread and range."
   ]
  },
  {
   "cell_type": "markdown",
   "id": "bdc468c1",
   "metadata": {},
   "source": [
    "## 9. Describe the difference between descriptive and inferential statistics. Give an example of each type of statistics and explain how they are used.\n",
    "Ans. Descriptive statistics involve summarizing and presenting data to describe its key characteristics. An example is calculating the mean (average) salary of employees in a company. Descriptive statistics are used to provide a snapshot of data and understand its central tendencies, variations, and patterns.\n",
    "\n",
    "Inferential statistics involve drawing conclusions or making predictions about a population based on a sample of data. For example, conducting a hypothesis test to determine if a new drug is effective for a larger population. Inferential statistics are used to make inferences, generalizations, or decisions beyond the specific dataset analyzed"
   ]
  },
  {
   "cell_type": "markdown",
   "id": "5032ad26",
   "metadata": {},
   "source": [
    "## 10.  What are some common measures of central tendency and variability used in statistics? Explain how each measure can be used to describe a dataset\n",
    "\n",
    "Measures of central tendency (mean, median, mode) summarize where the data tends to cluster.\n",
    "Measures of variability (range, variance, standard deviation, IQR) describe the extent to which data points spread out from the central tendency."
   ]
  },
  {
   "cell_type": "code",
   "execution_count": null,
   "id": "b4b4a594",
   "metadata": {},
   "outputs": [],
   "source": []
  }
 ],
 "metadata": {
  "kernelspec": {
   "display_name": "Python 3 (ipykernel)",
   "language": "python",
   "name": "python3"
  },
  "language_info": {
   "codemirror_mode": {
    "name": "ipython",
    "version": 3
   },
   "file_extension": ".py",
   "mimetype": "text/x-python",
   "name": "python",
   "nbconvert_exporter": "python",
   "pygments_lexer": "ipython3",
   "version": "3.10.10"
  }
 },
 "nbformat": 4,
 "nbformat_minor": 5
}
